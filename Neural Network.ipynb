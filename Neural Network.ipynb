{
 "cells": [
  {
   "cell_type": "code",
   "execution_count": 1,
   "metadata": {},
   "outputs": [],
   "source": [
    "# Build a simple neural network"
   ]
  },
  {
   "cell_type": "code",
   "execution_count": 2,
   "metadata": {},
   "outputs": [],
   "source": [
    "import numpy as np"
   ]
  },
  {
   "cell_type": "code",
   "execution_count": 40,
   "metadata": {},
   "outputs": [],
   "source": [
    "class Network:\n",
    "    def __init__(self, size):\n",
    "        self.bias = [np.random.randn(size, 1) for i in size]\n",
    "        self.weight = [np.random.randn(x, y) for x, y in zip(size[:-1], size[1:])]\n",
    "        \n",
    "    def forward(self, a):\n",
    "        for w, b in zip(self.weight, self.bias):\n",
    "            a = sigmoid(np.dot(self.weight, a))\n",
    "        return a\n",
    "    \n",
    "    def \n",
    "    \n",
    "def sigmoid(x):\n",
    "    return 1/(1+np.exp(-x))"
   ]
  },
  {
   "cell_type": "code",
   "execution_count": 12,
   "metadata": {},
   "outputs": [
    {
     "name": "stdout",
     "output_type": "stream",
     "text": [
      "[[-0.74511131]\n",
      " [ 1.03776134]]\n"
     ]
    }
   ],
   "source": [
    "x = np.random.randn(2, 1)\n",
    "print(x)"
   ]
  },
  {
   "cell_type": "code",
   "execution_count": 7,
   "metadata": {},
   "outputs": [
    {
     "name": "stdout",
     "output_type": "stream",
     "text": [
      "[[ 1.1704761   0.29213245]\n",
      " [ 1.59965977 -0.64948241]\n",
      " [ 0.034346   -0.28938309]]\n",
      "[[0.]\n",
      " [0.]\n",
      " [0.]]\n",
      "[[0.]]\n"
     ]
    }
   ],
   "source": [
    "# Assume that there is x_1 and x_2\n",
    "# Initialize the weight\n",
    "\n",
    "w_1 = np.random.randn(3, 2)\n",
    "w_2 = np.random.randn(3, 1)\n",
    "b_1 = np.zeros((3, 1))\n",
    "b_2 = np.zeros((1, 1))\n",
    "print(w_1)\n",
    "print(b_1)\n",
    "print(b_2)"
   ]
  },
  {
   "cell_type": "code",
   "execution_count": 14,
   "metadata": {},
   "outputs": [],
   "source": [
    "def sigmoid(x):\n",
    "    return 1/(1+np.exp(-x))"
   ]
  },
  {
   "cell_type": "code",
   "execution_count": 18,
   "metadata": {},
   "outputs": [],
   "source": [
    "# This is for forward propagation\n",
    "z_1 = np.dot(w_1, x) + b_1\n",
    "a_1 = sigmoid(z)\n",
    "z_2 = np.dot(w_2.T, a) + b_2\n",
    "a_2 = sigmoid(z)"
   ]
  },
  {
   "cell_type": "code",
   "execution_count": 21,
   "metadata": {},
   "outputs": [
    {
     "data": {
      "text/plain": [
       "3"
      ]
     },
     "execution_count": 21,
     "metadata": {},
     "output_type": "execute_result"
    }
   ],
   "source": [
    "a_2.shape"
   ]
  },
  {
   "cell_type": "code",
   "execution_count": 42,
   "metadata": {},
   "outputs": [],
   "source": [
    "layer_1 = Layer(3, sigmoid)"
   ]
  },
  {
   "cell_type": "code",
   "execution_count": 43,
   "metadata": {},
   "outputs": [],
   "source": [
    "layer_1.forward(x)"
   ]
  },
  {
   "cell_type": "code",
   "execution_count": 45,
   "metadata": {},
   "outputs": [],
   "source": [
    "layer_2 = Layer(1, sigmoid)"
   ]
  },
  {
   "cell_type": "code",
   "execution_count": 46,
   "metadata": {},
   "outputs": [],
   "source": [
    "layer_2.forward(layer_1.hidden_nodes)"
   ]
  },
  {
   "cell_type": "code",
   "execution_count": null,
   "metadata": {},
   "outputs": [],
   "source": [
    "layer2"
   ]
  }
 ],
 "metadata": {
  "kernelspec": {
   "display_name": "Python 3",
   "language": "python",
   "name": "python3"
  },
  "language_info": {
   "codemirror_mode": {
    "name": "ipython",
    "version": 3
   },
   "file_extension": ".py",
   "mimetype": "text/x-python",
   "name": "python",
   "nbconvert_exporter": "python",
   "pygments_lexer": "ipython3",
   "version": "3.7.1"
  }
 },
 "nbformat": 4,
 "nbformat_minor": 2
}
